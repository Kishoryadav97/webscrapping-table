{
 "cells": [
  {
   "cell_type": "code",
   "execution_count": 18,
   "id": "1c48b810",
   "metadata": {},
   "outputs": [],
   "source": [
    "import selenium\n",
    "from selenium.webdriver import Chrome\n",
    "from selenium.webdriver.common.by import By\n",
    "from selenium.webdriver.common.keys import Keys\n",
    "from bs4 import BeautifulSoup\n",
    "import pandas as pd\n",
    "import numpy as np"
   ]
  },
  {
   "cell_type": "code",
   "execution_count": 5,
   "id": "b38c5790",
   "metadata": {},
   "outputs": [],
   "source": [
    "driver=Chrome()\n",
    "driver.get('https://www.worldometers.info/world-population/')"
   ]
  },
  {
   "cell_type": "code",
   "execution_count": 11,
   "id": "8a8e1227",
   "metadata": {},
   "outputs": [],
   "source": [
    "soup=BeautifulSoup(driver.page_source,'lxml')"
   ]
  },
  {
   "cell_type": "code",
   "execution_count": 12,
   "id": "f421bbb3",
   "metadata": {},
   "outputs": [],
   "source": [
    "table=soup.find('table','table table-striped table-bordered table-hover table-condensed table-list');"
   ]
  },
  {
   "cell_type": "code",
   "execution_count": 13,
   "id": "457d4d1e",
   "metadata": {},
   "outputs": [
    {
     "data": {
      "text/plain": [
       "<table class=\"table table-striped table-bordered table-hover table-condensed table-list\"><thead> <tr> <th>Year<br/> (July 1) </th><th>Population</th><th>Yearly % <br/> Change</th><th>Yearly<br/> Change</th><th>Median <br/>Age</th><th>Fertility <br/>Rate</th><th>Density <br/>(P/Km²)</th> </tr><tr> <td>2020</td> <td><strong>7,794,798,739</strong></td> <td>1.05 %</td> <td>81,330,639</td> <td>30.9</td> <td>2.47</td> <td>52</td> </tr> <tr> <td>2019</td> <td><strong>7,713,468,100</strong></td> <td>1.08 %</td> <td>82,377,060</td> <td>29.8</td> <td>2.51</td> <td>52</td> </tr></thead><tbody><tr> <td>2018</td> <td><strong>7,631,091,040</strong></td> <td>1.10 %</td> <td>83,232,115</td> <td>29.8</td> <td>2.51</td> <td>51</td> </tr><tr> <td>2017</td> <td><strong>7,547,858,925</strong></td> <td>1.12 %</td> <td>83,836,876</td> <td>29.8</td> <td>2.51</td> <td>51</td> </tr><tr> <td>2016</td> <td><strong>7,464,022,049</strong></td> <td>1.14 %</td> <td>84,224,910</td> <td>29.8</td> <td>2.51</td> <td>50</td> </tr><tr> <td>2015</td> <td><strong>7,379,797,139</strong></td> <td>1.19 %</td> <td>84,594,707</td> <td>30</td> <td>2.52</td> <td>50</td> </tr><tr> <td>2010</td> <td><strong>6,956,823,603</strong></td> <td>1.24 %</td> <td>82,983,315</td> <td>28</td> <td>2.58</td> <td>47</td> </tr><tr> <td>2005</td> <td><strong>6,541,907,027</strong></td> <td>1.26 %</td> <td>79,682,641</td> <td>27</td> <td>2.65</td> <td>44</td> </tr><tr> <td>2000</td> <td><strong>6,143,493,823</strong></td> <td>1.35 %</td> <td>79,856,169</td> <td>26</td> <td>2.78</td> <td>41</td> </tr><tr> <td>1995</td> <td><strong>5,744,212,979</strong></td> <td>1.52 %</td> <td>83,396,384</td> <td>25</td> <td>3.01</td> <td>39</td> </tr><tr> <td>1990</td> <td><strong>5,327,231,061</strong></td> <td>1.81 %</td> <td>91,261,864</td> <td>24</td> <td>3.44</td> <td>36</td> </tr><tr> <td>1985</td> <td><strong>4,870,921,740</strong></td> <td>1.79 %</td> <td>82,583,645</td> <td>23</td><td>3.59</td> <td>33</td> </tr><tr> <td>1980</td> <td><strong>4,458,003,514</strong></td> <td>1.79 %</td> <td>75,704,582</td> <td>23</td> <td>3.86</td> <td>30</td> </tr><tr> <td>1975</td> <td><strong>4,079,480,606</strong></td> <td>1.97 %</td> <td>75,808,712</td> <td>22</td> <td>4.47</td> <td>27</td> </tr><tr> <td>1970</td> <td><strong>3,700,437,046</strong></td> <td>2.07 %</td> <td>72,170,690</td> <td>22</td><td>4.93</td> <td>25</td> </tr><tr> <td>1965</td> <td><strong>3,339,583,597</strong></td> <td>1.93 %</td> <td>60,926,770</td> <td>22</td> <td>5.02</td> <td>22</td> </tr><tr> <td>1960</td> <td><strong>3,034,949,748</strong></td> <td>1.82 %</td> <td>52,385,962</td> <td>23</td> <td>4.90</td> <td>20</td> </tr><tr> <td>1955</td> <td><strong>2,773,019,936</strong></td> <td>1.80 %</td> <td>47,317,757</td> <td>23</td> <td>4.97</td> <td>19</td> </tr></tbody></table>"
      ]
     },
     "execution_count": 13,
     "metadata": {},
     "output_type": "execute_result"
    }
   ],
   "source": [
    "table"
   ]
  },
  {
   "cell_type": "code",
   "execution_count": 14,
   "id": "1b9f7cff",
   "metadata": {},
   "outputs": [
    {
     "data": {
      "text/plain": [
       "[<th>Year<br/> (July 1) </th>,\n",
       " <th>Population</th>,\n",
       " <th>Yearly % <br/> Change</th>,\n",
       " <th>Yearly<br/> Change</th>,\n",
       " <th>Median <br/>Age</th>,\n",
       " <th>Fertility <br/>Rate</th>,\n",
       " <th>Density <br/>(P/Km²)</th>]"
      ]
     },
     "execution_count": 14,
     "metadata": {},
     "output_type": "execute_result"
    }
   ],
   "source": [
    "table.find_all('th')"
   ]
  },
  {
   "cell_type": "code",
   "execution_count": 15,
   "id": "71c6fefe",
   "metadata": {},
   "outputs": [],
   "source": [
    "Header=[]\n",
    "for i in table.find_all('th'):\n",
    "    name=i.text\n",
    "    Header.append(name)"
   ]
  },
  {
   "cell_type": "code",
   "execution_count": 19,
   "id": "8d49e6af",
   "metadata": {},
   "outputs": [],
   "source": [
    "data=pd.DataFrame(columns=Header)"
   ]
  },
  {
   "cell_type": "code",
   "execution_count": 20,
   "id": "d2a0168c",
   "metadata": {},
   "outputs": [
    {
     "data": {
      "text/html": [
       "<div>\n",
       "<style scoped>\n",
       "    .dataframe tbody tr th:only-of-type {\n",
       "        vertical-align: middle;\n",
       "    }\n",
       "\n",
       "    .dataframe tbody tr th {\n",
       "        vertical-align: top;\n",
       "    }\n",
       "\n",
       "    .dataframe thead th {\n",
       "        text-align: right;\n",
       "    }\n",
       "</style>\n",
       "<table border=\"1\" class=\"dataframe\">\n",
       "  <thead>\n",
       "    <tr style=\"text-align: right;\">\n",
       "      <th></th>\n",
       "      <th>Year (July 1)</th>\n",
       "      <th>Population</th>\n",
       "      <th>Yearly %  Change</th>\n",
       "      <th>Yearly Change</th>\n",
       "      <th>Median Age</th>\n",
       "      <th>Fertility Rate</th>\n",
       "      <th>Density (P/Km²)</th>\n",
       "    </tr>\n",
       "  </thead>\n",
       "  <tbody>\n",
       "  </tbody>\n",
       "</table>\n",
       "</div>"
      ],
      "text/plain": [
       "Empty DataFrame\n",
       "Columns: [Year (July 1) , Population, Yearly %  Change, Yearly Change, Median Age, Fertility Rate, Density (P/Km²)]\n",
       "Index: []"
      ]
     },
     "execution_count": 20,
     "metadata": {},
     "output_type": "execute_result"
    }
   ],
   "source": [
    "data"
   ]
  },
  {
   "cell_type": "code",
   "execution_count": 21,
   "id": "e66beebb",
   "metadata": {},
   "outputs": [
    {
     "data": {
      "text/plain": [
       "[<tr> <td>2020</td> <td><strong>7,794,798,739</strong></td> <td>1.05 %</td> <td>81,330,639</td> <td>30.9</td> <td>2.47</td> <td>52</td> </tr>,\n",
       " <tr> <td>2019</td> <td><strong>7,713,468,100</strong></td> <td>1.08 %</td> <td>82,377,060</td> <td>29.8</td> <td>2.51</td> <td>52</td> </tr>,\n",
       " <tr> <td>2018</td> <td><strong>7,631,091,040</strong></td> <td>1.10 %</td> <td>83,232,115</td> <td>29.8</td> <td>2.51</td> <td>51</td> </tr>,\n",
       " <tr> <td>2017</td> <td><strong>7,547,858,925</strong></td> <td>1.12 %</td> <td>83,836,876</td> <td>29.8</td> <td>2.51</td> <td>51</td> </tr>,\n",
       " <tr> <td>2016</td> <td><strong>7,464,022,049</strong></td> <td>1.14 %</td> <td>84,224,910</td> <td>29.8</td> <td>2.51</td> <td>50</td> </tr>,\n",
       " <tr> <td>2015</td> <td><strong>7,379,797,139</strong></td> <td>1.19 %</td> <td>84,594,707</td> <td>30</td> <td>2.52</td> <td>50</td> </tr>,\n",
       " <tr> <td>2010</td> <td><strong>6,956,823,603</strong></td> <td>1.24 %</td> <td>82,983,315</td> <td>28</td> <td>2.58</td> <td>47</td> </tr>,\n",
       " <tr> <td>2005</td> <td><strong>6,541,907,027</strong></td> <td>1.26 %</td> <td>79,682,641</td> <td>27</td> <td>2.65</td> <td>44</td> </tr>,\n",
       " <tr> <td>2000</td> <td><strong>6,143,493,823</strong></td> <td>1.35 %</td> <td>79,856,169</td> <td>26</td> <td>2.78</td> <td>41</td> </tr>,\n",
       " <tr> <td>1995</td> <td><strong>5,744,212,979</strong></td> <td>1.52 %</td> <td>83,396,384</td> <td>25</td> <td>3.01</td> <td>39</td> </tr>,\n",
       " <tr> <td>1990</td> <td><strong>5,327,231,061</strong></td> <td>1.81 %</td> <td>91,261,864</td> <td>24</td> <td>3.44</td> <td>36</td> </tr>,\n",
       " <tr> <td>1985</td> <td><strong>4,870,921,740</strong></td> <td>1.79 %</td> <td>82,583,645</td> <td>23</td><td>3.59</td> <td>33</td> </tr>,\n",
       " <tr> <td>1980</td> <td><strong>4,458,003,514</strong></td> <td>1.79 %</td> <td>75,704,582</td> <td>23</td> <td>3.86</td> <td>30</td> </tr>,\n",
       " <tr> <td>1975</td> <td><strong>4,079,480,606</strong></td> <td>1.97 %</td> <td>75,808,712</td> <td>22</td> <td>4.47</td> <td>27</td> </tr>,\n",
       " <tr> <td>1970</td> <td><strong>3,700,437,046</strong></td> <td>2.07 %</td> <td>72,170,690</td> <td>22</td><td>4.93</td> <td>25</td> </tr>,\n",
       " <tr> <td>1965</td> <td><strong>3,339,583,597</strong></td> <td>1.93 %</td> <td>60,926,770</td> <td>22</td> <td>5.02</td> <td>22</td> </tr>,\n",
       " <tr> <td>1960</td> <td><strong>3,034,949,748</strong></td> <td>1.82 %</td> <td>52,385,962</td> <td>23</td> <td>4.90</td> <td>20</td> </tr>,\n",
       " <tr> <td>1955</td> <td><strong>2,773,019,936</strong></td> <td>1.80 %</td> <td>47,317,757</td> <td>23</td> <td>4.97</td> <td>19</td> </tr>]"
      ]
     },
     "execution_count": 21,
     "metadata": {},
     "output_type": "execute_result"
    }
   ],
   "source": [
    "table.find_all('tr')[1:]"
   ]
  },
  {
   "cell_type": "code",
   "execution_count": 23,
   "id": "86f8b33b",
   "metadata": {},
   "outputs": [],
   "source": [
    "for i in table.find_all('tr')[1:]:\n",
    "    row_data=i.find_all('td')\n",
    "    row=[tr.text for tr in row_data]\n",
    "    length=len(data)\n",
    "    data.loc[length]=row"
   ]
  },
  {
   "cell_type": "code",
   "execution_count": 24,
   "id": "a0bef0cd",
   "metadata": {},
   "outputs": [
    {
     "data": {
      "text/html": [
       "<div>\n",
       "<style scoped>\n",
       "    .dataframe tbody tr th:only-of-type {\n",
       "        vertical-align: middle;\n",
       "    }\n",
       "\n",
       "    .dataframe tbody tr th {\n",
       "        vertical-align: top;\n",
       "    }\n",
       "\n",
       "    .dataframe thead th {\n",
       "        text-align: right;\n",
       "    }\n",
       "</style>\n",
       "<table border=\"1\" class=\"dataframe\">\n",
       "  <thead>\n",
       "    <tr style=\"text-align: right;\">\n",
       "      <th></th>\n",
       "      <th>Year (July 1)</th>\n",
       "      <th>Population</th>\n",
       "      <th>Yearly %  Change</th>\n",
       "      <th>Yearly Change</th>\n",
       "      <th>Median Age</th>\n",
       "      <th>Fertility Rate</th>\n",
       "      <th>Density (P/Km²)</th>\n",
       "    </tr>\n",
       "  </thead>\n",
       "  <tbody>\n",
       "    <tr>\n",
       "      <th>0</th>\n",
       "      <td>2020</td>\n",
       "      <td>7,794,798,739</td>\n",
       "      <td>1.05 %</td>\n",
       "      <td>81,330,639</td>\n",
       "      <td>30.9</td>\n",
       "      <td>2.47</td>\n",
       "      <td>52</td>\n",
       "    </tr>\n",
       "    <tr>\n",
       "      <th>1</th>\n",
       "      <td>2019</td>\n",
       "      <td>7,713,468,100</td>\n",
       "      <td>1.08 %</td>\n",
       "      <td>82,377,060</td>\n",
       "      <td>29.8</td>\n",
       "      <td>2.51</td>\n",
       "      <td>52</td>\n",
       "    </tr>\n",
       "    <tr>\n",
       "      <th>2</th>\n",
       "      <td>2018</td>\n",
       "      <td>7,631,091,040</td>\n",
       "      <td>1.10 %</td>\n",
       "      <td>83,232,115</td>\n",
       "      <td>29.8</td>\n",
       "      <td>2.51</td>\n",
       "      <td>51</td>\n",
       "    </tr>\n",
       "    <tr>\n",
       "      <th>3</th>\n",
       "      <td>2017</td>\n",
       "      <td>7,547,858,925</td>\n",
       "      <td>1.12 %</td>\n",
       "      <td>83,836,876</td>\n",
       "      <td>29.8</td>\n",
       "      <td>2.51</td>\n",
       "      <td>51</td>\n",
       "    </tr>\n",
       "    <tr>\n",
       "      <th>4</th>\n",
       "      <td>2016</td>\n",
       "      <td>7,464,022,049</td>\n",
       "      <td>1.14 %</td>\n",
       "      <td>84,224,910</td>\n",
       "      <td>29.8</td>\n",
       "      <td>2.51</td>\n",
       "      <td>50</td>\n",
       "    </tr>\n",
       "    <tr>\n",
       "      <th>5</th>\n",
       "      <td>2015</td>\n",
       "      <td>7,379,797,139</td>\n",
       "      <td>1.19 %</td>\n",
       "      <td>84,594,707</td>\n",
       "      <td>30</td>\n",
       "      <td>2.52</td>\n",
       "      <td>50</td>\n",
       "    </tr>\n",
       "    <tr>\n",
       "      <th>6</th>\n",
       "      <td>2010</td>\n",
       "      <td>6,956,823,603</td>\n",
       "      <td>1.24 %</td>\n",
       "      <td>82,983,315</td>\n",
       "      <td>28</td>\n",
       "      <td>2.58</td>\n",
       "      <td>47</td>\n",
       "    </tr>\n",
       "    <tr>\n",
       "      <th>7</th>\n",
       "      <td>2005</td>\n",
       "      <td>6,541,907,027</td>\n",
       "      <td>1.26 %</td>\n",
       "      <td>79,682,641</td>\n",
       "      <td>27</td>\n",
       "      <td>2.65</td>\n",
       "      <td>44</td>\n",
       "    </tr>\n",
       "    <tr>\n",
       "      <th>8</th>\n",
       "      <td>2000</td>\n",
       "      <td>6,143,493,823</td>\n",
       "      <td>1.35 %</td>\n",
       "      <td>79,856,169</td>\n",
       "      <td>26</td>\n",
       "      <td>2.78</td>\n",
       "      <td>41</td>\n",
       "    </tr>\n",
       "    <tr>\n",
       "      <th>9</th>\n",
       "      <td>1995</td>\n",
       "      <td>5,744,212,979</td>\n",
       "      <td>1.52 %</td>\n",
       "      <td>83,396,384</td>\n",
       "      <td>25</td>\n",
       "      <td>3.01</td>\n",
       "      <td>39</td>\n",
       "    </tr>\n",
       "    <tr>\n",
       "      <th>10</th>\n",
       "      <td>1990</td>\n",
       "      <td>5,327,231,061</td>\n",
       "      <td>1.81 %</td>\n",
       "      <td>91,261,864</td>\n",
       "      <td>24</td>\n",
       "      <td>3.44</td>\n",
       "      <td>36</td>\n",
       "    </tr>\n",
       "    <tr>\n",
       "      <th>11</th>\n",
       "      <td>1985</td>\n",
       "      <td>4,870,921,740</td>\n",
       "      <td>1.79 %</td>\n",
       "      <td>82,583,645</td>\n",
       "      <td>23</td>\n",
       "      <td>3.59</td>\n",
       "      <td>33</td>\n",
       "    </tr>\n",
       "    <tr>\n",
       "      <th>12</th>\n",
       "      <td>1980</td>\n",
       "      <td>4,458,003,514</td>\n",
       "      <td>1.79 %</td>\n",
       "      <td>75,704,582</td>\n",
       "      <td>23</td>\n",
       "      <td>3.86</td>\n",
       "      <td>30</td>\n",
       "    </tr>\n",
       "    <tr>\n",
       "      <th>13</th>\n",
       "      <td>1975</td>\n",
       "      <td>4,079,480,606</td>\n",
       "      <td>1.97 %</td>\n",
       "      <td>75,808,712</td>\n",
       "      <td>22</td>\n",
       "      <td>4.47</td>\n",
       "      <td>27</td>\n",
       "    </tr>\n",
       "    <tr>\n",
       "      <th>14</th>\n",
       "      <td>1970</td>\n",
       "      <td>3,700,437,046</td>\n",
       "      <td>2.07 %</td>\n",
       "      <td>72,170,690</td>\n",
       "      <td>22</td>\n",
       "      <td>4.93</td>\n",
       "      <td>25</td>\n",
       "    </tr>\n",
       "    <tr>\n",
       "      <th>15</th>\n",
       "      <td>1965</td>\n",
       "      <td>3,339,583,597</td>\n",
       "      <td>1.93 %</td>\n",
       "      <td>60,926,770</td>\n",
       "      <td>22</td>\n",
       "      <td>5.02</td>\n",
       "      <td>22</td>\n",
       "    </tr>\n",
       "    <tr>\n",
       "      <th>16</th>\n",
       "      <td>1960</td>\n",
       "      <td>3,034,949,748</td>\n",
       "      <td>1.82 %</td>\n",
       "      <td>52,385,962</td>\n",
       "      <td>23</td>\n",
       "      <td>4.90</td>\n",
       "      <td>20</td>\n",
       "    </tr>\n",
       "    <tr>\n",
       "      <th>17</th>\n",
       "      <td>1955</td>\n",
       "      <td>2,773,019,936</td>\n",
       "      <td>1.80 %</td>\n",
       "      <td>47,317,757</td>\n",
       "      <td>23</td>\n",
       "      <td>4.97</td>\n",
       "      <td>19</td>\n",
       "    </tr>\n",
       "  </tbody>\n",
       "</table>\n",
       "</div>"
      ],
      "text/plain": [
       "   Year (July 1)      Population Yearly %  Change Yearly Change Median Age  \\\n",
       "0            2020  7,794,798,739           1.05 %    81,330,639       30.9   \n",
       "1            2019  7,713,468,100           1.08 %    82,377,060       29.8   \n",
       "2            2018  7,631,091,040           1.10 %    83,232,115       29.8   \n",
       "3            2017  7,547,858,925           1.12 %    83,836,876       29.8   \n",
       "4            2016  7,464,022,049           1.14 %    84,224,910       29.8   \n",
       "5            2015  7,379,797,139           1.19 %    84,594,707         30   \n",
       "6            2010  6,956,823,603           1.24 %    82,983,315         28   \n",
       "7            2005  6,541,907,027           1.26 %    79,682,641         27   \n",
       "8            2000  6,143,493,823           1.35 %    79,856,169         26   \n",
       "9            1995  5,744,212,979           1.52 %    83,396,384         25   \n",
       "10           1990  5,327,231,061           1.81 %    91,261,864         24   \n",
       "11           1985  4,870,921,740           1.79 %    82,583,645         23   \n",
       "12           1980  4,458,003,514           1.79 %    75,704,582         23   \n",
       "13           1975  4,079,480,606           1.97 %    75,808,712         22   \n",
       "14           1970  3,700,437,046           2.07 %    72,170,690         22   \n",
       "15           1965  3,339,583,597           1.93 %    60,926,770         22   \n",
       "16           1960  3,034,949,748           1.82 %    52,385,962         23   \n",
       "17           1955  2,773,019,936           1.80 %    47,317,757         23   \n",
       "\n",
       "   Fertility Rate Density (P/Km²)  \n",
       "0            2.47              52  \n",
       "1            2.51              52  \n",
       "2            2.51              51  \n",
       "3            2.51              51  \n",
       "4            2.51              50  \n",
       "5            2.52              50  \n",
       "6            2.58              47  \n",
       "7            2.65              44  \n",
       "8            2.78              41  \n",
       "9            3.01              39  \n",
       "10           3.44              36  \n",
       "11           3.59              33  \n",
       "12           3.86              30  \n",
       "13           4.47              27  \n",
       "14           4.93              25  \n",
       "15           5.02              22  \n",
       "16           4.90              20  \n",
       "17           4.97              19  "
      ]
     },
     "execution_count": 24,
     "metadata": {},
     "output_type": "execute_result"
    }
   ],
   "source": [
    "data"
   ]
  },
  {
   "cell_type": "code",
   "execution_count": null,
   "id": "7cd84183",
   "metadata": {},
   "outputs": [],
   "source": []
  }
 ],
 "metadata": {
  "kernelspec": {
   "display_name": "Python 3 (ipykernel)",
   "language": "python",
   "name": "python3"
  },
  "language_info": {
   "codemirror_mode": {
    "name": "ipython",
    "version": 3
   },
   "file_extension": ".py",
   "mimetype": "text/x-python",
   "name": "python",
   "nbconvert_exporter": "python",
   "pygments_lexer": "ipython3",
   "version": "3.9.13"
  }
 },
 "nbformat": 4,
 "nbformat_minor": 5
}
